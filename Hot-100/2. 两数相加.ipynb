{
 "cells": [
  {
   "cell_type": "markdown",
   "id": "afe926f0",
   "metadata": {},
   "source": [
    "### Data Structure"
   ]
  },
  {
   "cell_type": "code",
   "execution_count": 1,
   "id": "08963924",
   "metadata": {},
   "outputs": [],
   "source": [
    "class ListNode:\n",
    "    def __init__(self, val=0, next=None):\n",
    "        self.val = val\n",
    "        self.next = next"
   ]
  },
  {
   "cell_type": "markdown",
   "id": "bbca7927",
   "metadata": {},
   "source": [
    "### Solution : 考虑进位的问题！"
   ]
  },
  {
   "cell_type": "code",
   "execution_count": 2,
   "id": "e029105e",
   "metadata": {},
   "outputs": [],
   "source": [
    "def addTwoNumbers(l1, l2):\n",
    "    carry = 0\n",
    "    head = result = ListNode(0)\n",
    "    while l1 or l2 or carry:\n",
    "        t = l1.val if l1 else 0\n",
    "        t += (l2.val if l2 else 0)\n",
    "        head.next = ListNode((t+carry)%10)\n",
    "        head = head.next\n",
    "        carry = 1 if t+carry>=10 else 0\n",
    "        l1 = l1.next if l1 else l1\n",
    "        l2 = l2.next if l2 else l2\n",
    "    return result.next"
   ]
  },
  {
   "cell_type": "markdown",
   "id": "86cf657e",
   "metadata": {},
   "source": [
    "# Test"
   ]
  },
  {
   "cell_type": "code",
   "execution_count": 3,
   "id": "62d483a9",
   "metadata": {},
   "outputs": [
    {
     "name": "stdout",
     "output_type": "stream",
     "text": [
      "2 4 3\n"
     ]
    }
   ],
   "source": [
    "LinkedList_1 = list(map(int, input().split()))"
   ]
  },
  {
   "cell_type": "code",
   "execution_count": 4,
   "id": "e2c4c988",
   "metadata": {},
   "outputs": [
    {
     "name": "stdout",
     "output_type": "stream",
     "text": [
      "5 6 4\n"
     ]
    }
   ],
   "source": [
    "LinkedList_2 = list(map(int, input().split()))"
   ]
  },
  {
   "cell_type": "code",
   "execution_count": 5,
   "id": "cceb6261",
   "metadata": {},
   "outputs": [],
   "source": [
    "head1 = l1 = ListNode(0)\n",
    "for i in LinkedList_1:\n",
    "    head1.next = ListNode(i)\n",
    "    head1 = head1.next"
   ]
  },
  {
   "cell_type": "code",
   "execution_count": 6,
   "id": "38dedd6d",
   "metadata": {},
   "outputs": [],
   "source": [
    "head2 = l2 = ListNode(0)\n",
    "for i in LinkedList_2:\n",
    "    head2.next = ListNode(i)\n",
    "    head2 = head2.next"
   ]
  },
  {
   "cell_type": "code",
   "execution_count": 7,
   "id": "1aed13b7",
   "metadata": {},
   "outputs": [
    {
     "name": "stdout",
     "output_type": "stream",
     "text": [
      "7\n",
      "0\n",
      "8\n"
     ]
    }
   ],
   "source": [
    "result = addTwoNumbers(l1.next, l2.next)\n",
    "while result:\n",
    "    print(result.val)\n",
    "    result = result.next"
   ]
  }
 ],
 "metadata": {
  "kernelspec": {
   "display_name": "Python 3 (ipykernel)",
   "language": "python",
   "name": "python3"
  },
  "language_info": {
   "codemirror_mode": {
    "name": "ipython",
    "version": 3
   },
   "file_extension": ".py",
   "mimetype": "text/x-python",
   "name": "python",
   "nbconvert_exporter": "python",
   "pygments_lexer": "ipython3",
   "version": "3.9.7"
  }
 },
 "nbformat": 4,
 "nbformat_minor": 5
}
