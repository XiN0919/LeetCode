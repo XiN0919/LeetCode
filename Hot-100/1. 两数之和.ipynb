{
 "cells": [
  {
   "cell_type": "markdown",
   "id": "ca04fc38",
   "metadata": {},
   "source": [
    "# Solution 1 : 暴力解"
   ]
  },
  {
   "cell_type": "code",
   "execution_count": 1,
   "id": "568ca372",
   "metadata": {},
   "outputs": [],
   "source": [
    "def twoSum_Solution1(nums, target):\n",
    "    length = len(nums)\n",
    "    for i in range(length):\n",
    "        for j in range(i+1, length):\n",
    "            if nums[i]+nums[j] == target:\n",
    "                return [i, j]\n",
    "    return []"
   ]
  },
  {
   "cell_type": "markdown",
   "id": "9c1cbb79",
   "metadata": {},
   "source": [
    "# Solution 2 : hashtable"
   ]
  },
  {
   "cell_type": "code",
   "execution_count": 2,
   "id": "75908ee7",
   "metadata": {},
   "outputs": [],
   "source": [
    "def twoSum_Solution2(nums, target):\n",
    "    hashtable = dict()\n",
    "    for i,num in enumerate(nums):\n",
    "        if target-num in hashtable:\n",
    "            return [hashtable[target-num], i]\n",
    "        hashtable[num] = i\n",
    "    return []"
   ]
  },
  {
   "cell_type": "markdown",
   "id": "bf26b6f8",
   "metadata": {},
   "source": [
    "# Test"
   ]
  },
  {
   "cell_type": "code",
   "execution_count": 3,
   "id": "0fa14a37",
   "metadata": {},
   "outputs": [
    {
     "name": "stdout",
     "output_type": "stream",
     "text": [
      "2,7,11,15\n",
      "9\n"
     ]
    }
   ],
   "source": [
    "dataList = list(map(int, input().split(',')))\n",
    "target = int(input())"
   ]
  },
  {
   "cell_type": "code",
   "execution_count": 4,
   "id": "fcad3f98",
   "metadata": {},
   "outputs": [
    {
     "data": {
      "text/plain": [
       "[0, 1]"
      ]
     },
     "execution_count": 4,
     "metadata": {},
     "output_type": "execute_result"
    }
   ],
   "source": [
    "twoSum_Solution1(dataList, target)"
   ]
  },
  {
   "cell_type": "code",
   "execution_count": 5,
   "id": "1710568e",
   "metadata": {},
   "outputs": [
    {
     "data": {
      "text/plain": [
       "[0, 1]"
      ]
     },
     "execution_count": 5,
     "metadata": {},
     "output_type": "execute_result"
    }
   ],
   "source": [
    "twoSum_Solution2(dataList, target)"
   ]
  }
 ],
 "metadata": {
  "kernelspec": {
   "display_name": "Python 3 (ipykernel)",
   "language": "python",
   "name": "python3"
  },
  "language_info": {
   "codemirror_mode": {
    "name": "ipython",
    "version": 3
   },
   "file_extension": ".py",
   "mimetype": "text/x-python",
   "name": "python",
   "nbconvert_exporter": "python",
   "pygments_lexer": "ipython3",
   "version": "3.9.7"
  }
 },
 "nbformat": 4,
 "nbformat_minor": 5
}
