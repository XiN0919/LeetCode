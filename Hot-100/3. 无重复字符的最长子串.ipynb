{
 "cells": [
  {
   "cell_type": "markdown",
   "id": "6f74a0b4",
   "metadata": {},
   "source": [
    "### Solution : 滑动窗口"
   ]
  },
  {
   "cell_type": "code",
   "execution_count": 1,
   "id": "3c98f6fb",
   "metadata": {},
   "outputs": [],
   "source": [
    "def lengthOfLongestSubstring(s):\n",
    "        occ = set()\n",
    "        n = len(s)\n",
    "        rk, result = -1, 0\n",
    "        for i in range(n):\n",
    "            if i!=0:\n",
    "                occ.remove(s[i-1])\n",
    "            while rk+1<n and s[rk+1] not in occ:\n",
    "                occ.add(s[rk+1])\n",
    "                rk = rk + 1\n",
    "            result = max(result, len(occ))\n",
    "        return result"
   ]
  },
  {
   "cell_type": "markdown",
   "id": "290d435e",
   "metadata": {},
   "source": [
    "### Test"
   ]
  },
  {
   "cell_type": "code",
   "execution_count": 2,
   "id": "62f78c48",
   "metadata": {},
   "outputs": [
    {
     "name": "stdout",
     "output_type": "stream",
     "text": [
      "abcabcbb\n",
      "3\n"
     ]
    }
   ],
   "source": [
    "data = input()\n",
    "print(lengthOfLongestSubstring(data))"
   ]
  },
  {
   "cell_type": "code",
   "execution_count": 3,
   "id": "580ecc56",
   "metadata": {},
   "outputs": [
    {
     "name": "stdout",
     "output_type": "stream",
     "text": [
      "bbbb\n",
      "1\n"
     ]
    }
   ],
   "source": [
    "data = input()\n",
    "print(lengthOfLongestSubstring(data))"
   ]
  },
  {
   "cell_type": "code",
   "execution_count": null,
   "id": "53b7d9ea",
   "metadata": {},
   "outputs": [],
   "source": []
  }
 ],
 "metadata": {
  "kernelspec": {
   "display_name": "Python 3 (ipykernel)",
   "language": "python",
   "name": "python3"
  },
  "language_info": {
   "codemirror_mode": {
    "name": "ipython",
    "version": 3
   },
   "file_extension": ".py",
   "mimetype": "text/x-python",
   "name": "python",
   "nbconvert_exporter": "python",
   "pygments_lexer": "ipython3",
   "version": "3.9.7"
  }
 },
 "nbformat": 4,
 "nbformat_minor": 5
}
